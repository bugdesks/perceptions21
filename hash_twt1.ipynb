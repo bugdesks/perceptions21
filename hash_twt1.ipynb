{
 "cells": [
  {
   "cell_type": "code",
   "execution_count": 1,
   "metadata": {},
   "outputs": [
    {
     "name": "stderr",
     "output_type": "stream",
     "text": [
      "Loading required package: NLP\n",
      "\n",
      "\n",
      "Attaching package: 'ggplot2'\n",
      "\n",
      "\n",
      "The following object is masked from 'package:NLP':\n",
      "\n",
      "    annotate\n",
      "\n",
      "\n",
      "Loading required package: RColorBrewer\n",
      "\n",
      "Package version: 2.1.2\n",
      "\n",
      "Parallel computing: 2 of 12 threads used.\n",
      "\n",
      "See https://quanteda.io for tutorials and examples.\n",
      "\n",
      "\n",
      "Attaching package: 'quanteda'\n",
      "\n",
      "\n",
      "The following objects are masked from 'package:tm':\n",
      "\n",
      "    as.DocumentTermMatrix, stopwords\n",
      "\n",
      "\n",
      "The following objects are masked from 'package:NLP':\n",
      "\n",
      "    meta, meta<-\n",
      "\n",
      "\n",
      "The following object is masked from 'jupyter:irkernel':\n",
      "\n",
      "    View\n",
      "\n",
      "\n",
      "The following object is masked from 'package:utils':\n",
      "\n",
      "    View\n",
      "\n",
      "\n",
      "stm v1.3.6 successfully loaded. See ?stm for help. \n",
      " Papers, resources, and other materials at structuraltopicmodel.com\n",
      "\n"
     ]
    }
   ],
   "source": [
    "#load libraries\n",
    "library(tm)\n",
    "library(topicmodels)\n",
    "library(reshape2)\n",
    "library(ggplot2)\n",
    "library(wordcloud)\n",
    "library(pals)\n",
    "library(quanteda)\n",
    "library(stm)\n",
    "library(lda)\n",
    "library(tidytext)\n",
    "library(widyr)\n",
    "library(textclean)\n"
   ]
  },
  {
   "cell_type": "code",
   "execution_count": 2,
   "metadata": {},
   "outputs": [],
   "source": [
    "# load file\n",
    "textdata <- read.csv(\"twts.csv\")\n",
    "# load eng stopwords from\n",
    "english_stopwords <- readLines(\"https://slcladal.github.io/resources/stopwords_en.txt\", encoding = \"UTF-8\")"
   ]
  },
  {
   "cell_type": "code",
   "execution_count": 5,
   "metadata": {},
   "outputs": [],
   "source": [
    "# create corpus object\n",
    "corpus <- Corpus(DataframeSource(textdata))"
   ]
  },
  {
   "cell_type": "code",
   "execution_count": 7,
   "metadata": {},
   "outputs": [],
   "source": [
    "# Preprocessing chain\n",
    "processedCorpus <- tm_map(processedCorpus, removeWords, english_stopwords)\n",
    "processedCorpus <- tm_map(processedCorpus, removePunctuation, preserve_intra_word_dashes = TRUE)\n",
    "processedCorpus <- tm_map(processedCorpus, stemDocument, language = \"en\")\n",
    "processedCorpus <- tm_map(processedCorpus, stripWhitespace)"
   ]
  },
  {
   "cell_type": "code",
   "execution_count": 8,
   "metadata": {},
   "outputs": [
    {
     "data": {
      "text/html": [
       "<style>\n",
       ".list-inline {list-style: none; margin:0; padding: 0}\n",
       ".list-inline>li {display: inline-block}\n",
       ".list-inline>li:not(:last-child)::after {content: \"\\00b7\"; padding: 0 .5ex}\n",
       "</style>\n",
       "<ol class=list-inline><li>2946775</li><li>80776</li></ol>\n"
      ],
      "text/latex": [
       "\\begin{enumerate*}\n",
       "\\item 2946775\n",
       "\\item 80776\n",
       "\\end{enumerate*}\n"
      ],
      "text/markdown": [
       "1. 2946775\n",
       "2. 80776\n",
       "\n",
       "\n"
      ],
      "text/plain": [
       "[1] 2946775   80776"
      ]
     },
     "metadata": {},
     "output_type": "display_data"
    }
   ],
   "source": [
    "# compute document term matrix with terms >= minimumFrequency\n",
    "minimumFrequency <- 5\n",
    "DTM <- DocumentTermMatrix(processedCorpus, control = list(bounds = list(global = c(minimumFrequency, Inf))))\n",
    "# have a look at the number of documents and terms in the matrix\n",
    "dim(DTM)"
   ]
  },
  {
   "cell_type": "code",
   "execution_count": 9,
   "metadata": {},
   "outputs": [],
   "source": [
    "sel_idx <- slam::row_sums(DTM) > 0\n",
    "DTM <- DTM[sel_idx, ]\n",
    "textdata <- textdata[sel_idx, ]"
   ]
  },
  {
   "cell_type": "code",
   "execution_count": 10,
   "metadata": {},
   "outputs": [
    {
     "name": "stdout",
     "output_type": "stream",
     "text": [
      "K = 20; V = 80776; M = 1977100\n",
      "Sampling 1000 iterations!\n",
      "Iteration 25 ...\n",
      "Iteration 50 ...\n",
      "Iteration 75 ...\n",
      "Iteration 100 ...\n",
      "Iteration 125 ...\n",
      "Iteration 150 ...\n",
      "Iteration 175 ...\n",
      "Iteration 200 ...\n",
      "Iteration 225 ...\n",
      "Iteration 250 ...\n",
      "Iteration 275 ...\n",
      "Iteration 300 ...\n",
      "Iteration 325 ...\n",
      "Iteration 350 ...\n",
      "Iteration 375 ...\n",
      "Iteration 400 ...\n",
      "Iteration 425 ...\n",
      "Iteration 450 ...\n",
      "Iteration 475 ...\n",
      "Iteration 500 ...\n",
      "Iteration 525 ...\n",
      "Iteration 550 ...\n",
      "Iteration 575 ...\n",
      "Iteration 600 ...\n",
      "Iteration 625 ...\n",
      "Iteration 650 ...\n",
      "Iteration 675 ...\n",
      "Iteration 700 ...\n",
      "Iteration 725 ...\n",
      "Iteration 750 ...\n",
      "Iteration 775 ...\n",
      "Iteration 800 ...\n",
      "Iteration 825 ...\n",
      "Iteration 850 ...\n",
      "Iteration 875 ...\n",
      "Iteration 900 ...\n",
      "Iteration 925 ...\n",
      "Iteration 950 ...\n",
      "Iteration 975 ...\n",
      "Iteration 1000 ...\n",
      "Gibbs sampling completed!\n"
     ]
    }
   ],
   "source": [
    "# number of topics\n",
    "K <- 20\n",
    "# set random number generator seed\n",
    "set.seed(9161)\n",
    "# compute the LDA model, inference via 1000 iterations of Gibbs sampling\n",
    "topicModel <- LDA(DTM, K, method=\"Gibbs\", control=list(iter = 1000, verbose = 25))"
   ]
  },
  {
   "cell_type": "code",
   "execution_count": 11,
   "metadata": {},
   "outputs": [
    {
     "data": {
      "text/html": [
       "<strong>$names</strong> = <style>\n",
       ".list-inline {list-style: none; margin:0; padding: 0}\n",
       ".list-inline>li {display: inline-block}\n",
       ".list-inline>li:not(:last-child)::after {content: \"\\00b7\"; padding: 0 .5ex}\n",
       "</style>\n",
       "<ol class=list-inline><li>'terms'</li><li>'topics'</li></ol>\n"
      ],
      "text/latex": [
       "\\textbf{\\$names} = \\begin{enumerate*}\n",
       "\\item 'terms'\n",
       "\\item 'topics'\n",
       "\\end{enumerate*}\n"
      ],
      "text/markdown": [
       "**$names** = 1. 'terms'\n",
       "2. 'topics'\n",
       "\n",
       "\n"
      ],
      "text/plain": [
       "$names\n",
       "[1] \"terms\"  \"topics\"\n"
      ]
     },
     "metadata": {},
     "output_type": "display_data"
    }
   ],
   "source": [
    "# have a look a some of the results (posterior distributions)\n",
    "tmResult <- posterior(topicModel)\n",
    "# format of the resulting object\n",
    "attributes(tmResult)"
   ]
  },
  {
   "cell_type": "code",
   "execution_count": 12,
   "metadata": {},
   "outputs": [
    {
     "data": {
      "text/html": [
       "80776"
      ],
      "text/latex": [
       "80776"
      ],
      "text/markdown": [
       "80776"
      ],
      "text/plain": [
       "[1] 80776"
      ]
     },
     "metadata": {},
     "output_type": "display_data"
    }
   ],
   "source": [
    "nTerms(DTM)              # lengthOfVocab"
   ]
  },
  {
   "cell_type": "code",
   "execution_count": 13,
   "metadata": {},
   "outputs": [
    {
     "data": {
      "text/html": [
       "<style>\n",
       ".list-inline {list-style: none; margin:0; padding: 0}\n",
       ".list-inline>li {display: inline-block}\n",
       ".list-inline>li:not(:last-child)::after {content: \"\\00b7\"; padding: 0 .5ex}\n",
       "</style>\n",
       "<ol class=list-inline><li>20</li><li>80776</li></ol>\n"
      ],
      "text/latex": [
       "\\begin{enumerate*}\n",
       "\\item 20\n",
       "\\item 80776\n",
       "\\end{enumerate*}\n"
      ],
      "text/markdown": [
       "1. 20\n",
       "2. 80776\n",
       "\n",
       "\n"
      ],
      "text/plain": [
       "[1]    20 80776"
      ]
     },
     "metadata": {},
     "output_type": "display_data"
    }
   ],
   "source": [
    "# topics are probability distribtions over the entire vocabulary\n",
    "beta <- tmResult$terms   # get beta from results\n",
    "dim(beta)"
   ]
  },
  {
   "cell_type": "code",
   "execution_count": 14,
   "metadata": {},
   "outputs": [
    {
     "data": {
      "text/html": [
       "<style>\n",
       ".dl-inline {width: auto; margin:0; padding: 0}\n",
       ".dl-inline>dt, .dl-inline>dd {float: none; width: auto; display: inline-block}\n",
       ".dl-inline>dt::after {content: \":\\0020\"; padding-right: .5ex}\n",
       ".dl-inline>dt:not(:first-of-type) {padding-left: .5ex}\n",
       "</style><dl class=dl-inline><dt>1</dt><dd>1</dd><dt>2</dt><dd>1</dd><dt>3</dt><dd>1</dd><dt>4</dt><dd>0.999999999999999</dd><dt>5</dt><dd>1</dd><dt>6</dt><dd>0.999999999999999</dd><dt>7</dt><dd>1</dd><dt>8</dt><dd>0.999999999999999</dd><dt>9</dt><dd>1</dd><dt>10</dt><dd>1</dd><dt>11</dt><dd>1</dd><dt>12</dt><dd>1</dd><dt>13</dt><dd>0.999999999999999</dd><dt>14</dt><dd>1</dd><dt>15</dt><dd>0.999999999999999</dd><dt>16</dt><dd>1</dd><dt>17</dt><dd>1</dd><dt>18</dt><dd>1</dd><dt>19</dt><dd>1</dd><dt>20</dt><dd>1</dd></dl>\n"
      ],
      "text/latex": [
       "\\begin{description*}\n",
       "\\item[1] 1\n",
       "\\item[2] 1\n",
       "\\item[3] 1\n",
       "\\item[4] 0.999999999999999\n",
       "\\item[5] 1\n",
       "\\item[6] 0.999999999999999\n",
       "\\item[7] 1\n",
       "\\item[8] 0.999999999999999\n",
       "\\item[9] 1\n",
       "\\item[10] 1\n",
       "\\item[11] 1\n",
       "\\item[12] 1\n",
       "\\item[13] 0.999999999999999\n",
       "\\item[14] 1\n",
       "\\item[15] 0.999999999999999\n",
       "\\item[16] 1\n",
       "\\item[17] 1\n",
       "\\item[18] 1\n",
       "\\item[19] 1\n",
       "\\item[20] 1\n",
       "\\end{description*}\n"
      ],
      "text/markdown": [
       "1\n",
       ":   12\n",
       ":   13\n",
       ":   14\n",
       ":   0.9999999999999995\n",
       ":   16\n",
       ":   0.9999999999999997\n",
       ":   18\n",
       ":   0.9999999999999999\n",
       ":   110\n",
       ":   111\n",
       ":   112\n",
       ":   113\n",
       ":   0.99999999999999914\n",
       ":   115\n",
       ":   0.99999999999999916\n",
       ":   117\n",
       ":   118\n",
       ":   119\n",
       ":   120\n",
       ":   1\n",
       "\n"
      ],
      "text/plain": [
       " 1  2  3  4  5  6  7  8  9 10 11 12 13 14 15 16 17 18 19 20 \n",
       " 1  1  1  1  1  1  1  1  1  1  1  1  1  1  1  1  1  1  1  1 "
      ]
     },
     "metadata": {},
     "output_type": "display_data"
    }
   ],
   "source": [
    "rowSums(beta)"
   ]
  },
  {
   "cell_type": "code",
   "execution_count": 15,
   "metadata": {},
   "outputs": [
    {
     "data": {
      "text/html": [
       "1977100"
      ],
      "text/latex": [
       "1977100"
      ],
      "text/markdown": [
       "1977100"
      ],
      "text/plain": [
       "[1] 1977100"
      ]
     },
     "metadata": {},
     "output_type": "display_data"
    }
   ],
   "source": [
    "nDocs(DTM)"
   ]
  },
  {
   "cell_type": "code",
   "execution_count": 16,
   "metadata": {},
   "outputs": [
    {
     "data": {
      "text/html": [
       "<style>\n",
       ".list-inline {list-style: none; margin:0; padding: 0}\n",
       ".list-inline>li {display: inline-block}\n",
       ".list-inline>li:not(:last-child)::after {content: \"\\00b7\"; padding: 0 .5ex}\n",
       "</style>\n",
       "<ol class=list-inline><li>1977100</li><li>20</li></ol>\n"
      ],
      "text/latex": [
       "\\begin{enumerate*}\n",
       "\\item 1977100\n",
       "\\item 20\n",
       "\\end{enumerate*}\n"
      ],
      "text/markdown": [
       "1. 1977100\n",
       "2. 20\n",
       "\n",
       "\n"
      ],
      "text/plain": [
       "[1] 1977100      20"
      ]
     },
     "metadata": {},
     "output_type": "display_data"
    }
   ],
   "source": [
    "# for every document we have a probaility distribution of its contained topics\n",
    "theta <- tmResult$topics \n",
    "dim(theta) "
   ]
  },
  {
   "cell_type": "code",
   "execution_count": 17,
   "metadata": {},
   "outputs": [
    {
     "data": {
      "text/html": [
       "<style>\n",
       ".dl-inline {width: auto; margin:0; padding: 0}\n",
       ".dl-inline>dt, .dl-inline>dd {float: none; width: auto; display: inline-block}\n",
       ".dl-inline>dt::after {content: \":\\0020\"; padding-right: .5ex}\n",
       ".dl-inline>dt:not(:first-of-type) {padding-left: .5ex}\n",
       "</style><dl class=dl-inline><dt>1355137239257403136</dt><dd>1</dd><dt>1355217311544832000</dt><dd>1</dd><dt>1355183455777263616</dt><dd>1</dd><dt>1355183455777263616</dt><dd>1</dd><dt>1355183455777263616</dt><dd>1</dd><dt>1355183455777263616</dt><dd>1</dd><dt>1355298157643628288</dt><dd>1</dd><dt>1355183455777263616</dt><dd>1</dd><dt>1355297803778609152</dt><dd>1</dd><dt>1355234735782551552</dt><dd>1</dd></dl>\n"
      ],
      "text/latex": [
       "\\begin{description*}\n",
       "\\item[1355137239257403136] 1\n",
       "\\item[1355217311544832000] 1\n",
       "\\item[1355183455777263616] 1\n",
       "\\item[1355183455777263616] 1\n",
       "\\item[1355183455777263616] 1\n",
       "\\item[1355183455777263616] 1\n",
       "\\item[1355298157643628288] 1\n",
       "\\item[1355183455777263616] 1\n",
       "\\item[1355297803778609152] 1\n",
       "\\item[1355234735782551552] 1\n",
       "\\end{description*}\n"
      ],
      "text/markdown": [
       "1355137239257403136\n",
       ":   11355217311544832000\n",
       ":   11355183455777263616\n",
       ":   11355183455777263616\n",
       ":   11355183455777263616\n",
       ":   11355183455777263616\n",
       ":   11355298157643628288\n",
       ":   11355183455777263616\n",
       ":   11355297803778609152\n",
       ":   11355234735782551552\n",
       ":   1\n",
       "\n"
      ],
      "text/plain": [
       "1355137239257403136 1355217311544832000 1355183455777263616 1355183455777263616 \n",
       "                  1                   1                   1                   1 \n",
       "1355183455777263616 1355183455777263616 1355298157643628288 1355183455777263616 \n",
       "                  1                   1                   1                   1 \n",
       "1355297803778609152 1355234735782551552 \n",
       "                  1                   1 "
      ]
     },
     "metadata": {},
     "output_type": "display_data"
    }
   ],
   "source": [
    "rowSums(theta)[1:10]     # rows in theta sum to 1"
   ]
  },
  {
   "cell_type": "code",
   "execution_count": 18,
   "metadata": {},
   "outputs": [
    {
     "data": {
      "text/html": [
       "<table class=\"dataframe\">\n",
       "<caption>A matrix: 10 × 20 of type chr</caption>\n",
       "<thead>\n",
       "\t<tr><th scope=col>Topic 1</th><th scope=col>Topic 2</th><th scope=col>Topic 3</th><th scope=col>Topic 4</th><th scope=col>Topic 5</th><th scope=col>Topic 6</th><th scope=col>Topic 7</th><th scope=col>Topic 8</th><th scope=col>Topic 9</th><th scope=col>Topic 10</th><th scope=col>Topic 11</th><th scope=col>Topic 12</th><th scope=col>Topic 13</th><th scope=col>Topic 14</th><th scope=col>Topic 15</th><th scope=col>Topic 16</th><th scope=col>Topic 17</th><th scope=col>Topic 18</th><th scope=col>Topic 19</th><th scope=col>Topic 20</th></tr>\n",
       "</thead>\n",
       "<tbody>\n",
       "\t<tr><td>ugandan</td><td>presid    </td><td>bobi    </td><td>watch</td><td>start </td><td>peopl  </td><td>polic   </td><td>mask   </td><td>amp  </td><td>vote    </td><td>day   </td><td>devolut </td><td>amp    </td><td>make  </td><td>good   </td><td>candid    </td><td>uganda  </td><td>call   </td><td>kalulu</td><td>don    </td></tr>\n",
       "\t<tr><td>kill   </td><td>kyagulanyi</td><td>wine    </td><td>news </td><td>back  </td><td>power  </td><td>arrest  </td><td>wear   </td><td>trump</td><td>elect   </td><td>live  </td><td>govern  </td><td>health </td><td>year  </td><td>love   </td><td>nrm       </td><td>god     </td><td>follow </td><td>poa   </td><td>nrm    </td></tr>\n",
       "\t<tr><td>stop   </td><td>nup       </td><td>museveni</td><td>video</td><td>today </td><td>countri</td><td>hous    </td><td>dont   </td><td>biden</td><td>museveni</td><td>covid </td><td>state   </td><td>develop</td><td>time  </td><td>wait   </td><td>campaign  </td><td>countri </td><td>retweet</td><td>con   </td><td>support</td></tr>\n",
       "\t<tr><td>dictat </td><td>robert    </td><td>free    </td><td>media</td><td>time  </td><td>chang  </td><td>secur   </td><td>hand   </td><td>fuck </td><td>presid  </td><td>peopl </td><td>parti   </td><td>road   </td><td>thing </td><td>great  </td><td>presidenti</td><td>free    </td><td>kenya  </td><td>che   </td><td>nup    </td></tr>\n",
       "\t<tr><td>uganda </td><td>bobiwin   </td><td>uganda  </td><td>read </td><td>2020  </td><td>leader </td><td>forc    </td><td>vaccin </td><td>dont </td><td>uganda  </td><td>life  </td><td>scotland</td><td>hospit </td><td>end   </td><td>show   </td><td>nup       </td><td>show    </td><td>kind   </td><td>pra   </td><td>guy    </td></tr>\n",
       "\t<tr><td>freedom</td><td>nation    </td><td>nubian  </td><td>live </td><td>play  </td><td>peac   </td><td>home    </td><td>stay   </td><td>black</td><td>2021    </td><td>famili</td><td>fail    </td><td>job    </td><td>polit </td><td>tonight</td><td>district  </td><td>happen  </td><td>send   </td><td>por   </td><td>peopl  </td></tr>\n",
       "\t<tr><td>fight  </td><td>ssentamu  </td><td>star    </td><td>tweet</td><td>school</td><td>africa </td><td>militari</td><td>distanc</td><td>sign </td><td>win     </td><td>care  </td><td>problem </td><td>servic </td><td>work  </td><td>morn   </td><td>today     </td><td>nigerian</td><td>busi   </td><td>una   </td><td>talk   </td></tr>\n",
       "\t<tr><td>human  </td><td>congratul </td><td>kwa     </td><td>post </td><td>join  </td><td>futur  </td><td>offic   </td><td>social </td><td>shit </td><td>result  </td><td>case  </td><td>independ</td><td>million</td><td>person</td><td>happi  </td><td>parti     </td><td>artist  </td><td>visit  </td><td>para  </td><td>money  </td></tr>\n",
       "\t<tr><td>regim  </td><td>aka       </td><td>pop     </td><td>full </td><td>win   </td><td>youth  </td><td>order   </td><td>covid  </td><td>white</td><td>won     </td><td>die   </td><td>polit   </td><td>busi   </td><td>made  </td><td>day    </td><td>support   </td><td>nigeria </td><td>book   </td><td>mai   </td><td>give   </td></tr>\n",
       "\t<tr><td>support</td><td>sevo      </td><td>sana    </td><td>speak</td><td>game  </td><td>uganda </td><td>opposit </td><td>refus  </td><td>lol  </td><td>poll    </td><td>work  </td><td>issu    </td><td>fund   </td><td>rule  </td><td>night  </td><td>region    </td><td>lay     </td><td>pay    </td><td>tororo</td><td>lie    </td></tr>\n",
       "</tbody>\n",
       "</table>\n"
      ],
      "text/latex": [
       "A matrix: 10 × 20 of type chr\n",
       "\\begin{tabular}{llllllllllllllllllll}\n",
       " Topic 1 & Topic 2 & Topic 3 & Topic 4 & Topic 5 & Topic 6 & Topic 7 & Topic 8 & Topic 9 & Topic 10 & Topic 11 & Topic 12 & Topic 13 & Topic 14 & Topic 15 & Topic 16 & Topic 17 & Topic 18 & Topic 19 & Topic 20\\\\\n",
       "\\hline\n",
       "\t ugandan & presid     & bobi     & watch & start  & peopl   & polic    & mask    & amp   & vote     & day    & devolut  & amp     & make   & good    & candid     & uganda   & call    & kalulu & don    \\\\\n",
       "\t kill    & kyagulanyi & wine     & news  & back   & power   & arrest   & wear    & trump & elect    & live   & govern   & health  & year   & love    & nrm        & god      & follow  & poa    & nrm    \\\\\n",
       "\t stop    & nup        & museveni & video & today  & countri & hous     & dont    & biden & museveni & covid  & state    & develop & time   & wait    & campaign   & countri  & retweet & con    & support\\\\\n",
       "\t dictat  & robert     & free     & media & time   & chang   & secur    & hand    & fuck  & presid   & peopl  & parti    & road    & thing  & great   & presidenti & free     & kenya   & che    & nup    \\\\\n",
       "\t uganda  & bobiwin    & uganda   & read  & 2020   & leader  & forc     & vaccin  & dont  & uganda   & life   & scotland & hospit  & end    & show    & nup        & show     & kind    & pra    & guy    \\\\\n",
       "\t freedom & nation     & nubian   & live  & play   & peac    & home     & stay    & black & 2021     & famili & fail     & job     & polit  & tonight & district   & happen   & send    & por    & peopl  \\\\\n",
       "\t fight   & ssentamu   & star     & tweet & school & africa  & militari & distanc & sign  & win      & care   & problem  & servic  & work   & morn    & today      & nigerian & busi    & una    & talk   \\\\\n",
       "\t human   & congratul  & kwa      & post  & join   & futur   & offic    & social  & shit  & result   & case   & independ & million & person & happi   & parti      & artist   & visit   & para   & money  \\\\\n",
       "\t regim   & aka        & pop      & full  & win    & youth   & order    & covid   & white & won      & die    & polit    & busi    & made   & day     & support    & nigeria  & book    & mai    & give   \\\\\n",
       "\t support & sevo       & sana     & speak & game   & uganda  & opposit  & refus   & lol   & poll     & work   & issu     & fund    & rule   & night   & region     & lay      & pay     & tororo & lie    \\\\\n",
       "\\end{tabular}\n"
      ],
      "text/markdown": [
       "\n",
       "A matrix: 10 × 20 of type chr\n",
       "\n",
       "| Topic 1 | Topic 2 | Topic 3 | Topic 4 | Topic 5 | Topic 6 | Topic 7 | Topic 8 | Topic 9 | Topic 10 | Topic 11 | Topic 12 | Topic 13 | Topic 14 | Topic 15 | Topic 16 | Topic 17 | Topic 18 | Topic 19 | Topic 20 |\n",
       "|---|---|---|---|---|---|---|---|---|---|---|---|---|---|---|---|---|---|---|---|\n",
       "| ugandan | presid     | bobi     | watch | start  | peopl   | polic    | mask    | amp   | vote     | day    | devolut  | amp     | make   | good    | candid     | uganda   | call    | kalulu | don     |\n",
       "| kill    | kyagulanyi | wine     | news  | back   | power   | arrest   | wear    | trump | elect    | live   | govern   | health  | year   | love    | nrm        | god      | follow  | poa    | nrm     |\n",
       "| stop    | nup        | museveni | video | today  | countri | hous     | dont    | biden | museveni | covid  | state    | develop | time   | wait    | campaign   | countri  | retweet | con    | support |\n",
       "| dictat  | robert     | free     | media | time   | chang   | secur    | hand    | fuck  | presid   | peopl  | parti    | road    | thing  | great   | presidenti | free     | kenya   | che    | nup     |\n",
       "| uganda  | bobiwin    | uganda   | read  | 2020   | leader  | forc     | vaccin  | dont  | uganda   | life   | scotland | hospit  | end    | show    | nup        | show     | kind    | pra    | guy     |\n",
       "| freedom | nation     | nubian   | live  | play   | peac    | home     | stay    | black | 2021     | famili | fail     | job     | polit  | tonight | district   | happen   | send    | por    | peopl   |\n",
       "| fight   | ssentamu   | star     | tweet | school | africa  | militari | distanc | sign  | win      | care   | problem  | servic  | work   | morn    | today      | nigerian | busi    | una    | talk    |\n",
       "| human   | congratul  | kwa      | post  | join   | futur   | offic    | social  | shit  | result   | case   | independ | million | person | happi   | parti      | artist   | visit   | para   | money   |\n",
       "| regim   | aka        | pop      | full  | win    | youth   | order    | covid   | white | won      | die    | polit    | busi    | made   | day     | support    | nigeria  | book    | mai    | give    |\n",
       "| support | sevo       | sana     | speak | game   | uganda  | opposit  | refus   | lol   | poll     | work   | issu     | fund    | rule   | night   | region     | lay      | pay     | tororo | lie     |\n",
       "\n"
      ],
      "text/plain": [
       "      Topic 1 Topic 2    Topic 3  Topic 4 Topic 5 Topic 6 Topic 7  Topic 8\n",
       " [1,] ugandan presid     bobi     watch   start   peopl   polic    mask   \n",
       " [2,] kill    kyagulanyi wine     news    back    power   arrest   wear   \n",
       " [3,] stop    nup        museveni video   today   countri hous     dont   \n",
       " [4,] dictat  robert     free     media   time    chang   secur    hand   \n",
       " [5,] uganda  bobiwin    uganda   read    2020    leader  forc     vaccin \n",
       " [6,] freedom nation     nubian   live    play    peac    home     stay   \n",
       " [7,] fight   ssentamu   star     tweet   school  africa  militari distanc\n",
       " [8,] human   congratul  kwa      post    join    futur   offic    social \n",
       " [9,] regim   aka        pop      full    win     youth   order    covid  \n",
       "[10,] support sevo       sana     speak   game    uganda  opposit  refus  \n",
       "      Topic 9 Topic 10 Topic 11 Topic 12 Topic 13 Topic 14 Topic 15 Topic 16  \n",
       " [1,] amp     vote     day      devolut  amp      make     good     candid    \n",
       " [2,] trump   elect    live     govern   health   year     love     nrm       \n",
       " [3,] biden   museveni covid    state    develop  time     wait     campaign  \n",
       " [4,] fuck    presid   peopl    parti    road     thing    great    presidenti\n",
       " [5,] dont    uganda   life     scotland hospit   end      show     nup       \n",
       " [6,] black   2021     famili   fail     job      polit    tonight  district  \n",
       " [7,] sign    win      care     problem  servic   work     morn     today     \n",
       " [8,] shit    result   case     independ million  person   happi    parti     \n",
       " [9,] white   won      die      polit    busi     made     day      support   \n",
       "[10,] lol     poll     work     issu     fund     rule     night    region    \n",
       "      Topic 17 Topic 18 Topic 19 Topic 20\n",
       " [1,] uganda   call     kalulu   don     \n",
       " [2,] god      follow   poa      nrm     \n",
       " [3,] countri  retweet  con      support \n",
       " [4,] free     kenya    che      nup     \n",
       " [5,] show     kind     pra      guy     \n",
       " [6,] happen   send     por      peopl   \n",
       " [7,] nigerian busi     una      talk    \n",
       " [8,] artist   visit    para     money   \n",
       " [9,] nigeria  book     mai      give    \n",
       "[10,] lay      pay      tororo   lie     "
      ]
     },
     "metadata": {},
     "output_type": "display_data"
    }
   ],
   "source": [
    "terms(topicModel, 10)"
   ]
  },
  {
   "cell_type": "code",
   "execution_count": 19,
   "metadata": {},
   "outputs": [
    {
     "data": {
      "text/html": [
       "<table class=\"dataframe\">\n",
       "<caption>A matrix: 10 × 10 of type chr</caption>\n",
       "<thead>\n",
       "\t<tr><th scope=col>Topic 1</th><th scope=col>Topic 2</th><th scope=col>Topic 3</th><th scope=col>Topic 4</th><th scope=col>Topic 5</th><th scope=col>Topic 6</th><th scope=col>Topic 7</th><th scope=col>Topic 8</th><th scope=col>Topic 9</th><th scope=col>Topic 10</th></tr>\n",
       "</thead>\n",
       "<tbody>\n",
       "\t<tr><td>ugandan</td><td>presid    </td><td>bobi    </td><td>watch</td><td>start </td><td>peopl  </td><td>polic   </td><td>mask   </td><td>amp  </td><td>vote    </td></tr>\n",
       "\t<tr><td>kill   </td><td>kyagulanyi</td><td>wine    </td><td>news </td><td>back  </td><td>power  </td><td>arrest  </td><td>wear   </td><td>trump</td><td>elect   </td></tr>\n",
       "\t<tr><td>stop   </td><td>nup       </td><td>museveni</td><td>video</td><td>today </td><td>countri</td><td>hous    </td><td>dont   </td><td>biden</td><td>museveni</td></tr>\n",
       "\t<tr><td>dictat </td><td>robert    </td><td>free    </td><td>media</td><td>time  </td><td>chang  </td><td>secur   </td><td>hand   </td><td>fuck </td><td>presid  </td></tr>\n",
       "\t<tr><td>uganda </td><td>bobiwin   </td><td>uganda  </td><td>read </td><td>2020  </td><td>leader </td><td>forc    </td><td>vaccin </td><td>dont </td><td>uganda  </td></tr>\n",
       "\t<tr><td>freedom</td><td>nation    </td><td>nubian  </td><td>live </td><td>play  </td><td>peac   </td><td>home    </td><td>stay   </td><td>black</td><td>2021    </td></tr>\n",
       "\t<tr><td>fight  </td><td>ssentamu  </td><td>star    </td><td>tweet</td><td>school</td><td>africa </td><td>militari</td><td>distanc</td><td>sign </td><td>win     </td></tr>\n",
       "\t<tr><td>human  </td><td>congratul </td><td>kwa     </td><td>post </td><td>join  </td><td>futur  </td><td>offic   </td><td>social </td><td>shit </td><td>result  </td></tr>\n",
       "\t<tr><td>regim  </td><td>aka       </td><td>pop     </td><td>full </td><td>win   </td><td>youth  </td><td>order   </td><td>covid  </td><td>white</td><td>won     </td></tr>\n",
       "\t<tr><td>support</td><td>sevo      </td><td>sana    </td><td>speak</td><td>game  </td><td>uganda </td><td>opposit </td><td>refus  </td><td>lol  </td><td>poll    </td></tr>\n",
       "</tbody>\n",
       "</table>\n"
      ],
      "text/latex": [
       "A matrix: 10 × 10 of type chr\n",
       "\\begin{tabular}{llllllllll}\n",
       " Topic 1 & Topic 2 & Topic 3 & Topic 4 & Topic 5 & Topic 6 & Topic 7 & Topic 8 & Topic 9 & Topic 10\\\\\n",
       "\\hline\n",
       "\t ugandan & presid     & bobi     & watch & start  & peopl   & polic    & mask    & amp   & vote    \\\\\n",
       "\t kill    & kyagulanyi & wine     & news  & back   & power   & arrest   & wear    & trump & elect   \\\\\n",
       "\t stop    & nup        & museveni & video & today  & countri & hous     & dont    & biden & museveni\\\\\n",
       "\t dictat  & robert     & free     & media & time   & chang   & secur    & hand    & fuck  & presid  \\\\\n",
       "\t uganda  & bobiwin    & uganda   & read  & 2020   & leader  & forc     & vaccin  & dont  & uganda  \\\\\n",
       "\t freedom & nation     & nubian   & live  & play   & peac    & home     & stay    & black & 2021    \\\\\n",
       "\t fight   & ssentamu   & star     & tweet & school & africa  & militari & distanc & sign  & win     \\\\\n",
       "\t human   & congratul  & kwa      & post  & join   & futur   & offic    & social  & shit  & result  \\\\\n",
       "\t regim   & aka        & pop      & full  & win    & youth   & order    & covid   & white & won     \\\\\n",
       "\t support & sevo       & sana     & speak & game   & uganda  & opposit  & refus   & lol   & poll    \\\\\n",
       "\\end{tabular}\n"
      ],
      "text/markdown": [
       "\n",
       "A matrix: 10 × 10 of type chr\n",
       "\n",
       "| Topic 1 | Topic 2 | Topic 3 | Topic 4 | Topic 5 | Topic 6 | Topic 7 | Topic 8 | Topic 9 | Topic 10 |\n",
       "|---|---|---|---|---|---|---|---|---|---|\n",
       "| ugandan | presid     | bobi     | watch | start  | peopl   | polic    | mask    | amp   | vote     |\n",
       "| kill    | kyagulanyi | wine     | news  | back   | power   | arrest   | wear    | trump | elect    |\n",
       "| stop    | nup        | museveni | video | today  | countri | hous     | dont    | biden | museveni |\n",
       "| dictat  | robert     | free     | media | time   | chang   | secur    | hand    | fuck  | presid   |\n",
       "| uganda  | bobiwin    | uganda   | read  | 2020   | leader  | forc     | vaccin  | dont  | uganda   |\n",
       "| freedom | nation     | nubian   | live  | play   | peac    | home     | stay    | black | 2021     |\n",
       "| fight   | ssentamu   | star     | tweet | school | africa  | militari | distanc | sign  | win      |\n",
       "| human   | congratul  | kwa      | post  | join   | futur   | offic    | social  | shit  | result   |\n",
       "| regim   | aka        | pop      | full  | win    | youth   | order    | covid   | white | won      |\n",
       "| support | sevo       | sana     | speak | game   | uganda  | opposit  | refus   | lol   | poll     |\n",
       "\n"
      ],
      "text/plain": [
       "      Topic 1 Topic 2    Topic 3  Topic 4 Topic 5 Topic 6 Topic 7  Topic 8\n",
       " [1,] ugandan presid     bobi     watch   start   peopl   polic    mask   \n",
       " [2,] kill    kyagulanyi wine     news    back    power   arrest   wear   \n",
       " [3,] stop    nup        museveni video   today   countri hous     dont   \n",
       " [4,] dictat  robert     free     media   time    chang   secur    hand   \n",
       " [5,] uganda  bobiwin    uganda   read    2020    leader  forc     vaccin \n",
       " [6,] freedom nation     nubian   live    play    peac    home     stay   \n",
       " [7,] fight   ssentamu   star     tweet   school  africa  militari distanc\n",
       " [8,] human   congratul  kwa      post    join    futur   offic    social \n",
       " [9,] regim   aka        pop      full    win     youth   order    covid  \n",
       "[10,] support sevo       sana     speak   game    uganda  opposit  refus  \n",
       "      Topic 9 Topic 10\n",
       " [1,] amp     vote    \n",
       " [2,] trump   elect   \n",
       " [3,] biden   museveni\n",
       " [4,] fuck    presid  \n",
       " [5,] dont    uganda  \n",
       " [6,] black   2021    \n",
       " [7,] sign    win     \n",
       " [8,] shit    result  \n",
       " [9,] white   won     \n",
       "[10,] lol     poll    "
      ]
     },
     "metadata": {},
     "output_type": "display_data"
    }
   ],
   "source": [
    "exampleTermData <- terms(topicModel, 10)\n",
    "exampleTermData[, 1:10]"
   ]
  },
  {
   "cell_type": "code",
   "execution_count": 20,
   "metadata": {},
   "outputs": [],
   "source": [
    "top5termsPerTopic <- terms(topicModel, 5)\n",
    "topicNames <- apply(top5termsPerTopic, 2, paste, collapse=\" \")\n"
   ]
  },
  {
   "cell_type": "code",
   "execution_count": 21,
   "metadata": {},
   "outputs": [],
   "source": [
    "# visualize topics as word cloud\n",
    "topicToViz <- 11"
   ]
  },
  {
   "cell_type": "code",
   "execution_count": 26,
   "metadata": {},
   "outputs": [],
   "source": [
    "# use 'elect', 'vote', 'nup', 'nrm',? chose 'elect'\n",
    "topicToViz <- grep('elect', topicNames)[1] # Or select a topic by a term contained in its name\n",
    "# select to 40 most probable terms from the topic by sorting the term-topic-probability vector in decreasing order"
   ]
  },
  {
   "cell_type": "code",
   "execution_count": 28,
   "metadata": {},
   "outputs": [],
   "source": [
    "top40terms <- sort(tmResult$terms[topicToViz,], decreasing=TRUE)[1:40]\n",
    "words <- names(top40terms)"
   ]
  },
  {
   "cell_type": "code",
   "execution_count": 29,
   "metadata": {},
   "outputs": [],
   "source": [
    "# extract the probabilites of each of the 40 terms\n",
    "probabilities <- sort(tmResult$terms[topicToViz,], decreasing=TRUE)[1:40]"
   ]
  },
  {
   "cell_type": "code",
   "execution_count": 30,
   "metadata": {},
   "outputs": [
    {
     "data": {
      "image/png": "[encoded data removed]",
      "text/plain": [
       "plot without title"
      ]
     },
     "metadata": {
      "image/png": {
       "height": 420,
       "width": 420
      }
     },
     "output_type": "display_data"
    }
   ],
   "source": [
    "# visualize the terms as wordcloud\n",
    "mycolors <- brewer.pal(8, \"Dark2\")\n",
    "wordcloud(words, probabilities, random.order = FALSE, color = mycolors)"
   ]
  },
  {
   "cell_type": "code",
   "execution_count": 31,
   "metadata": {},
   "outputs": [
    {
     "data": {
      "text/html": [
       "<dl>\n",
       "\t<dt>$`1355217311544832000`</dt>\n",
       "\t\t<dd>'women are being raped by the military and children under age are in prison all women dont engage in s in'</dd>\n",
       "\t<dt>$`1354500496124481536`</dt>\n",
       "\t\t<dd>'international acts from different countries are criticizing ugandas hosting of the with the country being politically unstable then we have our artist who had 2 of nigerian artists arrested woah some people are naturally dense nobodys safe in uganda'</dd>\n",
       "\t<dt>$`1352560920988364800`</dt>\n",
       "\t\t<dd>'so you re bringing celebrations in the land of oppression the government has shut us down wants to totally shut us down'</dd>\n",
       "</dl>\n"
      ],
      "text/latex": [
       "\\begin{description}\n",
       "\\item[\\$`1355217311544832000`] 'women are being raped by the military and children under age are in prison all women dont engage in s in'\n",
       "\\item[\\$`1354500496124481536`] 'international acts from different countries are criticizing ugandas hosting of the with the country being politically unstable then we have our artist who had 2 of nigerian artists arrested woah some people are naturally dense nobodys safe in uganda'\n",
       "\\item[\\$`1352560920988364800`] 'so you re bringing celebrations in the land of oppression the government has shut us down wants to totally shut us down'\n",
       "\\end{description}\n"
      ],
      "text/markdown": [
       "$`1355217311544832000`\n",
       ":   'women are being raped by the military and children under age are in prison all women dont engage in s in'\n",
       "$`1354500496124481536`\n",
       ":   'international acts from different countries are criticizing ugandas hosting of the with the country being politically unstable then we have our artist who had 2 of nigerian artists arrested woah some people are naturally dense nobodys safe in uganda'\n",
       "$`1352560920988364800`\n",
       ":   'so you re bringing celebrations in the land of oppression the government has shut us down wants to totally shut us down'\n",
       "\n",
       "\n"
      ],
      "text/plain": [
       "$`1355217311544832000`\n",
       "[1] \"women are being raped by the military and children under age are in prison all women dont engage in s in\"\n",
       "\n",
       "$`1354500496124481536`\n",
       "[1] \"international acts from different countries are criticizing ugandas hosting of the with the country being politically unstable then we have our artist who had 2 of nigerian artists arrested woah some people are naturally dense nobodys safe in uganda\"\n",
       "\n",
       "$`1352560920988364800`\n",
       "[1] \"so you re bringing celebrations in the land of oppression the government has shut us down wants to totally shut us down\"\n"
      ]
     },
     "metadata": {},
     "output_type": "display_data"
    }
   ],
   "source": [
    "exampleIds <- c(2, 100, 200)\n",
    "lapply(corpus[exampleIds], as.character)"
   ]
  },
  {
   "cell_type": "code",
   "execution_count": 46,
   "metadata": {},
   "outputs": [
    {
     "name": "stdout",
     "output_type": "stream",
     "text": [
      "[1] \"2: women are being raped by the military and children under age are in prison all women dont engage in s in...\"\n"
     ]
    }
   ],
   "source": [
    "exampleIds <- c(2, 100, 200, 400, 900, 2000)\n",
    "print(paste0(exampleIds[1], \": \", substr(content(corpus[[exampleIds[1]]]), 0, 2000), '...'))"
   ]
  },
  {
   "cell_type": "code",
   "execution_count": 47,
   "metadata": {},
   "outputs": [
    {
     "name": "stdout",
     "output_type": "stream",
     "text": [
      "[1] \"100: international acts from different countries are criticizing ugandas hosting of the with the country being politically unstable then we have our artist who had 2 of nigerian artists arrested woah some people are naturally dense nobodys safe in uganda...\"\n"
     ]
    }
   ],
   "source": [
    "print(paste0(exampleIds[2], \": \", substr(content(corpus[[exampleIds[2]]]), 0, 2000), '...'))"
   ]
  },
  {
   "cell_type": "code",
   "execution_count": 48,
   "metadata": {},
   "outputs": [
    {
     "name": "stdout",
     "output_type": "stream",
     "text": [
      "[1] \"200: so you re bringing celebrations in the land of oppression the government has shut us down wants to totally shut us down...\"\n"
     ]
    }
   ],
   "source": [
    "print(paste0(exampleIds[3], \": \", substr(content(corpus[[exampleIds[3]]]), 0, 2000), '...'))"
   ]
  },
  {
   "cell_type": "code",
   "execution_count": 49,
   "metadata": {},
   "outputs": [
    {
     "data": {
      "image/png": "[encoded data removed]",
      "text/plain": [
       "plot without title"
      ]
     },
     "metadata": {
      "image/png": {
       "height": 420,
       "width": 420
      }
     },
     "output_type": "display_data"
    }
   ],
   "source": [
    "N <- length(exampleIds)\n",
    "# get topic proportions form example documents\n",
    "topicProportionExamples <- theta[exampleIds,]\n",
    "colnames(topicProportionExamples) <- topicNames\n",
    "vizDataFrame <- melt(cbind(data.frame(topicProportionExamples), document = factor(1:N)), variable.name = \"topic\", id.vars = \"document\")  \n",
    "ggplot(data = vizDataFrame, aes(topic, value, fill = document), ylab = \"proportion\") + \n",
    "  geom_bar(stat=\"identity\") +\n",
    "  theme(axis.text.x = element_text(angle = 90, hjust = 1)) +  \n",
    "  coord_flip() +\n",
    "  facet_wrap(~ document, ncol = N)"
   ]
  },
  {
   "cell_type": "code",
   "execution_count": 50,
   "metadata": {},
   "outputs": [
    {
     "data": {
      "text/html": [
       "2.5"
      ],
      "text/latex": [
       "2.5"
      ],
      "text/markdown": [
       "2.5"
      ],
      "text/plain": [
       "[1] 2.5"
      ]
     },
     "metadata": {},
     "output_type": "display_data"
    }
   ],
   "source": [
    "# see alpha from previous model\n",
    "attr(topicModel, \"alpha\")"
   ]
  },
  {
   "cell_type": "code",
   "execution_count": 51,
   "metadata": {},
   "outputs": [
    {
     "name": "stdout",
     "output_type": "stream",
     "text": [
      "K = 20; V = 80776; M = 1977100\n",
      "Sampling 1000 iterations!\n",
      "Iteration 25 ...\n",
      "Iteration 50 ...\n",
      "Iteration 75 ...\n",
      "Iteration 100 ...\n",
      "Iteration 125 ...\n",
      "Iteration 150 ...\n",
      "Iteration 175 ...\n",
      "Iteration 200 ...\n",
      "Iteration 225 ...\n",
      "Iteration 250 ...\n",
      "Iteration 275 ...\n",
      "Iteration 300 ...\n",
      "Iteration 325 ...\n",
      "Iteration 350 ...\n",
      "Iteration 375 ...\n",
      "Iteration 400 ...\n",
      "Iteration 425 ...\n",
      "Iteration 450 ...\n",
      "Iteration 475 ...\n",
      "Iteration 500 ...\n",
      "Iteration 525 ...\n",
      "Iteration 550 ...\n",
      "Iteration 575 ...\n",
      "Iteration 600 ...\n",
      "Iteration 625 ...\n",
      "Iteration 650 ...\n",
      "Iteration 675 ...\n",
      "Iteration 700 ...\n",
      "Iteration 725 ...\n",
      "Iteration 750 ...\n",
      "Iteration 775 ...\n",
      "Iteration 800 ...\n",
      "Iteration 825 ...\n",
      "Iteration 850 ...\n",
      "Iteration 875 ...\n",
      "Iteration 900 ...\n",
      "Iteration 925 ...\n",
      "Iteration 950 ...\n",
      "Iteration 975 ...\n",
      "Iteration 1000 ...\n",
      "Gibbs sampling completed!\n"
     ]
    }
   ],
   "source": [
    "topicModel2 <- LDA(DTM, K, method=\"Gibbs\", control=list(iter = 1000, verbose = 25, alpha = 0.2))"
   ]
  },
  {
   "cell_type": "code",
   "execution_count": 52,
   "metadata": {},
   "outputs": [],
   "source": [
    "tmResult <- posterior(topicModel2)\n",
    "theta <- tmResult$topics\n",
    "beta <- tmResult$terms\n",
    "topicNames <- apply(terms(topicModel2, 5), 2, paste, collapse = \" \")  # reset topicnames"
   ]
  },
  {
   "cell_type": "code",
   "execution_count": 53,
   "metadata": {
    "scrolled": true
   },
   "outputs": [
    {
     "data": {
      "image/png": "[encoded data removed]",
      "text/plain": [
       "plot without title"
      ]
     },
     "metadata": {
      "image/png": {
       "height": 420,
       "width": 420
      }
     },
     "output_type": "display_data"
    }
   ],
   "source": [
    "# get topic proportions from example documents\n",
    "topicProportionExamples <- theta[exampleIds,]\n",
    "colnames(topicProportionExamples) <- topicNames\n",
    "vizDataFrame <- melt(cbind(data.frame(topicProportionExamples), document = factor(1:N)), variable.name = \"topic\", id.vars = \"document\")  \n",
    "ggplot(data = vizDataFrame, aes(topic, value, fill = document), ylab = \"proportion\") + \n",
    "  geom_bar(stat=\"identity\") +\n",
    "  theme(axis.text.x = element_text(angle = 90, hjust = 1)) +  \n",
    "  coord_flip() +\n",
    "  facet_wrap(~ document, ncol = N)"
   ]
  },
  {
   "cell_type": "code",
   "execution_count": 54,
   "metadata": {},
   "outputs": [
    {
     "data": {
      "text/html": [
       "<style>\n",
       ".dl-inline {width: auto; margin:0; padding: 0}\n",
       ".dl-inline>dt, .dl-inline>dd {float: none; width: auto; display: inline-block}\n",
       ".dl-inline>dt::after {content: \":\\0020\"; padding-right: .5ex}\n",
       ".dl-inline>dt:not(:first-of-type) {padding-left: .5ex}\n",
       "</style><dl class=dl-inline><dt>bobi wine uganda kyagulanyi arrest</dt><dd>0.0577060185315768</dd><dt>mask wear dont peopl biden</dt><dd>0.0570207810282261</dd><dt>watch live show tonight wait</dt><dd>0.0549418775682794</dd><dt>mask wear covid stay peopl</dt><dd>0.0534183466075494</dd><dt>peopl don make man thing</dt><dd>0.0518173689324136</dd><dt>nrm nup support peopl don</dt><dd>0.051477117796923</dd><dt>bobi wine elect museveni uganda</dt><dd>0.0507233293662469</dd><dt>bobi wine peopl power uganda</dt><dd>0.0503523694307026</dd><dt>devolut scotland govern power independ</dt><dd>0.0499676672181284</dd><dt>good god day love morn</dt><dd>0.0491698158323173</dd><dt>candid nrm campaign nup presidenti</dt><dd>0.049096020670404</dd><dt>amp road uganda develop health</dt><dd>0.0486939988235919</dd><dt>uganda countri artist nigerian arrest</dt><dd>0.0485941045712021</dd><dt>ugandan kill uganda peopl dictat</dt><dd>0.0484856714937534</dd><dt>amp law elect human media</dt><dd>0.0484453570959538</dd><dt>polic offic arrest updf secur</dt><dd>0.0477135583666907</dd><dt>call amp today app game</dt><dd>0.0463697272972297</dd><dt>vote futur 2021 secur day</dt><dd>0.0461882248722272</dd><dt>kalulu nga akalulu nay che</dt><dd>0.0460548815039353</dd><dt>poa nrm pra por www</dt><dd>0.0437637629926527</dd></dl>\n"
      ],
      "text/latex": [
       "\\begin{description*}\n",
       "\\item[bobi wine uganda kyagulanyi arrest] 0.0577060185315768\n",
       "\\item[mask wear dont peopl biden] 0.0570207810282261\n",
       "\\item[watch live show tonight wait] 0.0549418775682794\n",
       "\\item[mask wear covid stay peopl] 0.0534183466075494\n",
       "\\item[peopl don make man thing] 0.0518173689324136\n",
       "\\item[nrm nup support peopl don] 0.051477117796923\n",
       "\\item[bobi wine elect museveni uganda] 0.0507233293662469\n",
       "\\item[bobi wine peopl power uganda] 0.0503523694307026\n",
       "\\item[devolut scotland govern power independ] 0.0499676672181284\n",
       "\\item[good god day love morn] 0.0491698158323173\n",
       "\\item[candid nrm campaign nup presidenti] 0.049096020670404\n",
       "\\item[amp road uganda develop health] 0.0486939988235919\n",
       "\\item[uganda countri artist nigerian arrest] 0.0485941045712021\n",
       "\\item[ugandan kill uganda peopl dictat] 0.0484856714937534\n",
       "\\item[amp law elect human media] 0.0484453570959538\n",
       "\\item[polic offic arrest updf secur] 0.0477135583666907\n",
       "\\item[call amp today app game] 0.0463697272972297\n",
       "\\item[vote futur 2021 secur day] 0.0461882248722272\n",
       "\\item[kalulu nga akalulu nay che] 0.0460548815039353\n",
       "\\item[poa nrm pra por www] 0.0437637629926527\n",
       "\\end{description*}\n"
      ],
      "text/markdown": [
       "bobi wine uganda kyagulanyi arrest\n",
       ":   0.0577060185315768mask wear dont peopl biden\n",
       ":   0.0570207810282261watch live show tonight wait\n",
       ":   0.0549418775682794mask wear covid stay peopl\n",
       ":   0.0534183466075494peopl don make man thing\n",
       ":   0.0518173689324136nrm nup support peopl don\n",
       ":   0.051477117796923bobi wine elect museveni uganda\n",
       ":   0.0507233293662469bobi wine peopl power uganda\n",
       ":   0.0503523694307026devolut scotland govern power independ\n",
       ":   0.0499676672181284good god day love morn\n",
       ":   0.0491698158323173candid nrm campaign nup presidenti\n",
       ":   0.049096020670404amp road uganda develop health\n",
       ":   0.0486939988235919uganda countri artist nigerian arrest\n",
       ":   0.0485941045712021ugandan kill uganda peopl dictat\n",
       ":   0.0484856714937534amp law elect human media\n",
       ":   0.0484453570959538polic offic arrest updf secur\n",
       ":   0.0477135583666907call amp today app game\n",
       ":   0.0463697272972297vote futur 2021 secur day\n",
       ":   0.0461882248722272kalulu nga akalulu nay che\n",
       ":   0.0460548815039353poa nrm pra por www\n",
       ":   0.0437637629926527\n",
       "\n"
      ],
      "text/plain": [
       "    bobi wine uganda kyagulanyi arrest             mask wear dont peopl biden \n",
       "                            0.05770602                             0.05702078 \n",
       "          watch live show tonight wait             mask wear covid stay peopl \n",
       "                            0.05494188                             0.05341835 \n",
       "              peopl don make man thing              nrm nup support peopl don \n",
       "                            0.05181737                             0.05147712 \n",
       "       bobi wine elect museveni uganda           bobi wine peopl power uganda \n",
       "                            0.05072333                             0.05035237 \n",
       "devolut scotland govern power independ                 good god day love morn \n",
       "                            0.04996767                             0.04916982 \n",
       "    candid nrm campaign nup presidenti         amp road uganda develop health \n",
       "                            0.04909602                             0.04869400 \n",
       " uganda countri artist nigerian arrest       ugandan kill uganda peopl dictat \n",
       "                            0.04859410                             0.04848567 \n",
       "             amp law elect human media          polic offic arrest updf secur \n",
       "                            0.04844536                             0.04771356 \n",
       "               call amp today app game              vote futur 2021 secur day \n",
       "                            0.04636973                             0.04618822 \n",
       "            kalulu nga akalulu nay che                    poa nrm pra por www \n",
       "                            0.04605488                             0.04376376 "
      ]
     },
     "metadata": {},
     "output_type": "display_data"
    }
   ],
   "source": [
    "# The most probable topics in the entire tweet data\n",
    "topicProportions <- colSums(theta) / nDocs(DTM)  # mean probabilities over all tweets\n",
    "names(topicProportions) <- topicNames     # assign the tweet topic names we created before\n",
    "sort(topicProportions, decreasing = TRUE) # show summed proportions in decreased order"
   ]
  },
  {
   "cell_type": "code",
   "execution_count": 55,
   "metadata": {},
   "outputs": [
    {
     "data": {
      "text/html": [
       "<style>\n",
       ".list-inline {list-style: none; margin:0; padding: 0}\n",
       ".list-inline>li {display: inline-block}\n",
       ".list-inline>li:not(:last-child)::after {content: \"\\00b7\"; padding: 0 .5ex}\n",
       "</style>\n",
       "<ol class=list-inline><li>'0.05771 : bobi wine uganda kyagulanyi arrest'</li><li>'0.05702 : mask wear dont peopl biden'</li><li>'0.05494 : watch live show tonight wait'</li><li>'0.05342 : mask wear covid stay peopl'</li><li>'0.05182 : peopl don make man thing'</li><li>'0.05148 : nrm nup support peopl don'</li><li>'0.05072 : bobi wine elect museveni uganda'</li><li>'0.05035 : bobi wine peopl power uganda'</li><li>'0.04997 : devolut scotland govern power independ'</li><li>'0.04917 : good god day love morn'</li><li>'0.0491 : candid nrm campaign nup presidenti'</li><li>'0.04869 : amp road uganda develop health'</li><li>'0.04859 : uganda countri artist nigerian arrest'</li><li>'0.04849 : ugandan kill uganda peopl dictat'</li><li>'0.04845 : amp law elect human media'</li><li>'0.04771 : polic offic arrest updf secur'</li><li>'0.04637 : call amp today app game'</li><li>'0.04619 : vote futur 2021 secur day'</li><li>'0.04605 : kalulu nga akalulu nay che'</li><li>'0.04376 : poa nrm pra por www'</li></ol>\n"
      ],
      "text/latex": [
       "\\begin{enumerate*}\n",
       "\\item '0.05771 : bobi wine uganda kyagulanyi arrest'\n",
       "\\item '0.05702 : mask wear dont peopl biden'\n",
       "\\item '0.05494 : watch live show tonight wait'\n",
       "\\item '0.05342 : mask wear covid stay peopl'\n",
       "\\item '0.05182 : peopl don make man thing'\n",
       "\\item '0.05148 : nrm nup support peopl don'\n",
       "\\item '0.05072 : bobi wine elect museveni uganda'\n",
       "\\item '0.05035 : bobi wine peopl power uganda'\n",
       "\\item '0.04997 : devolut scotland govern power independ'\n",
       "\\item '0.04917 : good god day love morn'\n",
       "\\item '0.0491 : candid nrm campaign nup presidenti'\n",
       "\\item '0.04869 : amp road uganda develop health'\n",
       "\\item '0.04859 : uganda countri artist nigerian arrest'\n",
       "\\item '0.04849 : ugandan kill uganda peopl dictat'\n",
       "\\item '0.04845 : amp law elect human media'\n",
       "\\item '0.04771 : polic offic arrest updf secur'\n",
       "\\item '0.04637 : call amp today app game'\n",
       "\\item '0.04619 : vote futur 2021 secur day'\n",
       "\\item '0.04605 : kalulu nga akalulu nay che'\n",
       "\\item '0.04376 : poa nrm pra por www'\n",
       "\\end{enumerate*}\n"
      ],
      "text/markdown": [
       "1. '0.05771 : bobi wine uganda kyagulanyi arrest'\n",
       "2. '0.05702 : mask wear dont peopl biden'\n",
       "3. '0.05494 : watch live show tonight wait'\n",
       "4. '0.05342 : mask wear covid stay peopl'\n",
       "5. '0.05182 : peopl don make man thing'\n",
       "6. '0.05148 : nrm nup support peopl don'\n",
       "7. '0.05072 : bobi wine elect museveni uganda'\n",
       "8. '0.05035 : bobi wine peopl power uganda'\n",
       "9. '0.04997 : devolut scotland govern power independ'\n",
       "10. '0.04917 : good god day love morn'\n",
       "11. '0.0491 : candid nrm campaign nup presidenti'\n",
       "12. '0.04869 : amp road uganda develop health'\n",
       "13. '0.04859 : uganda countri artist nigerian arrest'\n",
       "14. '0.04849 : ugandan kill uganda peopl dictat'\n",
       "15. '0.04845 : amp law elect human media'\n",
       "16. '0.04771 : polic offic arrest updf secur'\n",
       "17. '0.04637 : call amp today app game'\n",
       "18. '0.04619 : vote futur 2021 secur day'\n",
       "19. '0.04605 : kalulu nga akalulu nay che'\n",
       "20. '0.04376 : poa nrm pra por www'\n",
       "\n",
       "\n"
      ],
      "text/plain": [
       " [1] \"0.05771 : bobi wine uganda kyagulanyi arrest\"    \n",
       " [2] \"0.05702 : mask wear dont peopl biden\"            \n",
       " [3] \"0.05494 : watch live show tonight wait\"          \n",
       " [4] \"0.05342 : mask wear covid stay peopl\"            \n",
       " [5] \"0.05182 : peopl don make man thing\"              \n",
       " [6] \"0.05148 : nrm nup support peopl don\"             \n",
       " [7] \"0.05072 : bobi wine elect museveni uganda\"       \n",
       " [8] \"0.05035 : bobi wine peopl power uganda\"          \n",
       " [9] \"0.04997 : devolut scotland govern power independ\"\n",
       "[10] \"0.04917 : good god day love morn\"                \n",
       "[11] \"0.0491 : candid nrm campaign nup presidenti\"     \n",
       "[12] \"0.04869 : amp road uganda develop health\"        \n",
       "[13] \"0.04859 : uganda countri artist nigerian arrest\" \n",
       "[14] \"0.04849 : ugandan kill uganda peopl dictat\"      \n",
       "[15] \"0.04845 : amp law elect human media\"             \n",
       "[16] \"0.04771 : polic offic arrest updf secur\"         \n",
       "[17] \"0.04637 : call amp today app game\"               \n",
       "[18] \"0.04619 : vote futur 2021 secur day\"             \n",
       "[19] \"0.04605 : kalulu nga akalulu nay che\"            \n",
       "[20] \"0.04376 : poa nrm pra por www\"                   "
      ]
     },
     "metadata": {},
     "output_type": "display_data"
    }
   ],
   "source": [
    "soP <- sort(topicProportions, decreasing = TRUE)\n",
    "paste(round(soP, 5), \":\", names(soP))"
   ]
  },
  {
   "cell_type": "code",
   "execution_count": 56,
   "metadata": {},
   "outputs": [
    {
     "data": {
      "text/html": [
       "<style>\n",
       ".dl-inline {width: auto; margin:0; padding: 0}\n",
       ".dl-inline>dt, .dl-inline>dd {float: none; width: auto; display: inline-block}\n",
       ".dl-inline>dt::after {content: \":\\0020\"; padding-right: .5ex}\n",
       ".dl-inline>dt:not(:first-of-type) {padding-left: .5ex}\n",
       "</style><dl class=dl-inline><dt>mask wear dont peopl biden</dt><dd>147286</dd><dt>watch live show tonight wait</dt><dd>142562</dd><dt>bobi wine uganda kyagulanyi arrest</dt><dd>136224</dd><dt>peopl don make man thing</dt><dd>106185</dd><dt>poa nrm pra por www</dt><dd>105135</dd><dt>candid nrm campaign nup presidenti</dt><dd>103769</dd><dt>bobi wine elect museveni uganda</dt><dd>99664</dd><dt>mask wear covid stay peopl</dt><dd>98946</dd><dt>amp road uganda develop health</dt><dd>97297</dd><dt>nrm nup support peopl don</dt><dd>96373</dd><dt>amp law elect human media</dt><dd>92953</dd><dt>uganda countri artist nigerian arrest</dt><dd>92391</dd><dt>kalulu nga akalulu nay che</dt><dd>90890</dd><dt>bobi wine peopl power uganda</dt><dd>88675</dd><dt>ugandan kill uganda peopl dictat</dt><dd>87730</dd><dt>vote futur 2021 secur day</dt><dd>85097</dd><dt>devolut scotland govern power independ</dt><dd>81981</dd><dt>good god day love morn</dt><dd>81388</dd><dt>polic offic arrest updf secur</dt><dd>73067</dd><dt>call amp today app game</dt><dd>69487</dd></dl>\n"
      ],
      "text/latex": [
       "\\begin{description*}\n",
       "\\item[mask wear dont peopl biden] 147286\n",
       "\\item[watch live show tonight wait] 142562\n",
       "\\item[bobi wine uganda kyagulanyi arrest] 136224\n",
       "\\item[peopl don make man thing] 106185\n",
       "\\item[poa nrm pra por www] 105135\n",
       "\\item[candid nrm campaign nup presidenti] 103769\n",
       "\\item[bobi wine elect museveni uganda] 99664\n",
       "\\item[mask wear covid stay peopl] 98946\n",
       "\\item[amp road uganda develop health] 97297\n",
       "\\item[nrm nup support peopl don] 96373\n",
       "\\item[amp law elect human media] 92953\n",
       "\\item[uganda countri artist nigerian arrest] 92391\n",
       "\\item[kalulu nga akalulu nay che] 90890\n",
       "\\item[bobi wine peopl power uganda] 88675\n",
       "\\item[ugandan kill uganda peopl dictat] 87730\n",
       "\\item[vote futur 2021 secur day] 85097\n",
       "\\item[devolut scotland govern power independ] 81981\n",
       "\\item[good god day love morn] 81388\n",
       "\\item[polic offic arrest updf secur] 73067\n",
       "\\item[call amp today app game] 69487\n",
       "\\end{description*}\n"
      ],
      "text/markdown": [
       "mask wear dont peopl biden\n",
       ":   147286watch live show tonight wait\n",
       ":   142562bobi wine uganda kyagulanyi arrest\n",
       ":   136224peopl don make man thing\n",
       ":   106185poa nrm pra por www\n",
       ":   105135candid nrm campaign nup presidenti\n",
       ":   103769bobi wine elect museveni uganda\n",
       ":   99664mask wear covid stay peopl\n",
       ":   98946amp road uganda develop health\n",
       ":   97297nrm nup support peopl don\n",
       ":   96373amp law elect human media\n",
       ":   92953uganda countri artist nigerian arrest\n",
       ":   92391kalulu nga akalulu nay che\n",
       ":   90890bobi wine peopl power uganda\n",
       ":   88675ugandan kill uganda peopl dictat\n",
       ":   87730vote futur 2021 secur day\n",
       ":   85097devolut scotland govern power independ\n",
       ":   81981good god day love morn\n",
       ":   81388polic offic arrest updf secur\n",
       ":   73067call amp today app game\n",
       ":   69487\n",
       "\n"
      ],
      "text/plain": [
       "            mask wear dont peopl biden           watch live show tonight wait \n",
       "                                147286                                 142562 \n",
       "    bobi wine uganda kyagulanyi arrest               peopl don make man thing \n",
       "                                136224                                 106185 \n",
       "                   poa nrm pra por www     candid nrm campaign nup presidenti \n",
       "                                105135                                 103769 \n",
       "       bobi wine elect museveni uganda             mask wear covid stay peopl \n",
       "                                 99664                                  98946 \n",
       "        amp road uganda develop health              nrm nup support peopl don \n",
       "                                 97297                                  96373 \n",
       "             amp law elect human media  uganda countri artist nigerian arrest \n",
       "                                 92953                                  92391 \n",
       "            kalulu nga akalulu nay che           bobi wine peopl power uganda \n",
       "                                 90890                                  88675 \n",
       "      ugandan kill uganda peopl dictat              vote futur 2021 secur day \n",
       "                                 87730                                  85097 \n",
       "devolut scotland govern power independ                 good god day love morn \n",
       "                                 81981                                  81388 \n",
       "         polic offic arrest updf secur                call amp today app game \n",
       "                                 73067                                  69487 "
      ]
     },
     "metadata": {},
     "output_type": "display_data"
    }
   ],
   "source": [
    "countsOfPrimaryTopics <- rep(0, K)\n",
    "names(countsOfPrimaryTopics) <- topicNames\n",
    "for (i in 1:nDocs(DTM)) {\n",
    "  topicsPerDoc <- theta[i, ] # select topic distribution for document i\n",
    "  # get first element position from ordered list\n",
    "  primaryTopic <- order(topicsPerDoc, decreasing = TRUE)[1] \n",
    "  countsOfPrimaryTopics[primaryTopic] <- countsOfPrimaryTopics[primaryTopic] + 1\n",
    "}\n",
    "sort(countsOfPrimaryTopics, decreasing = TRUE)"
   ]
  },
  {
   "cell_type": "code",
   "execution_count": 57,
   "metadata": {},
   "outputs": [
    {
     "data": {
      "text/html": [
       "<style>\n",
       ".list-inline {list-style: none; margin:0; padding: 0}\n",
       ".list-inline>li {display: inline-block}\n",
       ".list-inline>li:not(:last-child)::after {content: \"\\00b7\"; padding: 0 .5ex}\n",
       "</style>\n",
       "<ol class=list-inline><li>'147286 : mask wear dont peopl biden'</li><li>'142562 : watch live show tonight wait'</li><li>'136224 : bobi wine uganda kyagulanyi arrest'</li><li>'106185 : peopl don make man thing'</li><li>'105135 : poa nrm pra por www'</li><li>'103769 : candid nrm campaign nup presidenti'</li><li>'99664 : bobi wine elect museveni uganda'</li><li>'98946 : mask wear covid stay peopl'</li><li>'97297 : amp road uganda develop health'</li><li>'96373 : nrm nup support peopl don'</li><li>'92953 : amp law elect human media'</li><li>'92391 : uganda countri artist nigerian arrest'</li><li>'90890 : kalulu nga akalulu nay che'</li><li>'88675 : bobi wine peopl power uganda'</li><li>'87730 : ugandan kill uganda peopl dictat'</li><li>'85097 : vote futur 2021 secur day'</li><li>'81981 : devolut scotland govern power independ'</li><li>'81388 : good god day love morn'</li><li>'73067 : polic offic arrest updf secur'</li><li>'69487 : call amp today app game'</li></ol>\n"
      ],
      "text/latex": [
       "\\begin{enumerate*}\n",
       "\\item '147286 : mask wear dont peopl biden'\n",
       "\\item '142562 : watch live show tonight wait'\n",
       "\\item '136224 : bobi wine uganda kyagulanyi arrest'\n",
       "\\item '106185 : peopl don make man thing'\n",
       "\\item '105135 : poa nrm pra por www'\n",
       "\\item '103769 : candid nrm campaign nup presidenti'\n",
       "\\item '99664 : bobi wine elect museveni uganda'\n",
       "\\item '98946 : mask wear covid stay peopl'\n",
       "\\item '97297 : amp road uganda develop health'\n",
       "\\item '96373 : nrm nup support peopl don'\n",
       "\\item '92953 : amp law elect human media'\n",
       "\\item '92391 : uganda countri artist nigerian arrest'\n",
       "\\item '90890 : kalulu nga akalulu nay che'\n",
       "\\item '88675 : bobi wine peopl power uganda'\n",
       "\\item '87730 : ugandan kill uganda peopl dictat'\n",
       "\\item '85097 : vote futur 2021 secur day'\n",
       "\\item '81981 : devolut scotland govern power independ'\n",
       "\\item '81388 : good god day love morn'\n",
       "\\item '73067 : polic offic arrest updf secur'\n",
       "\\item '69487 : call amp today app game'\n",
       "\\end{enumerate*}\n"
      ],
      "text/markdown": [
       "1. '147286 : mask wear dont peopl biden'\n",
       "2. '142562 : watch live show tonight wait'\n",
       "3. '136224 : bobi wine uganda kyagulanyi arrest'\n",
       "4. '106185 : peopl don make man thing'\n",
       "5. '105135 : poa nrm pra por www'\n",
       "6. '103769 : candid nrm campaign nup presidenti'\n",
       "7. '99664 : bobi wine elect museveni uganda'\n",
       "8. '98946 : mask wear covid stay peopl'\n",
       "9. '97297 : amp road uganda develop health'\n",
       "10. '96373 : nrm nup support peopl don'\n",
       "11. '92953 : amp law elect human media'\n",
       "12. '92391 : uganda countri artist nigerian arrest'\n",
       "13. '90890 : kalulu nga akalulu nay che'\n",
       "14. '88675 : bobi wine peopl power uganda'\n",
       "15. '87730 : ugandan kill uganda peopl dictat'\n",
       "16. '85097 : vote futur 2021 secur day'\n",
       "17. '81981 : devolut scotland govern power independ'\n",
       "18. '81388 : good god day love morn'\n",
       "19. '73067 : polic offic arrest updf secur'\n",
       "20. '69487 : call amp today app game'\n",
       "\n",
       "\n"
      ],
      "text/plain": [
       " [1] \"147286 : mask wear dont peopl biden\"           \n",
       " [2] \"142562 : watch live show tonight wait\"         \n",
       " [3] \"136224 : bobi wine uganda kyagulanyi arrest\"   \n",
       " [4] \"106185 : peopl don make man thing\"             \n",
       " [5] \"105135 : poa nrm pra por www\"                  \n",
       " [6] \"103769 : candid nrm campaign nup presidenti\"   \n",
       " [7] \"99664 : bobi wine elect museveni uganda\"       \n",
       " [8] \"98946 : mask wear covid stay peopl\"            \n",
       " [9] \"97297 : amp road uganda develop health\"        \n",
       "[10] \"96373 : nrm nup support peopl don\"             \n",
       "[11] \"92953 : amp law elect human media\"             \n",
       "[12] \"92391 : uganda countri artist nigerian arrest\" \n",
       "[13] \"90890 : kalulu nga akalulu nay che\"            \n",
       "[14] \"88675 : bobi wine peopl power uganda\"          \n",
       "[15] \"87730 : ugandan kill uganda peopl dictat\"      \n",
       "[16] \"85097 : vote futur 2021 secur day\"             \n",
       "[17] \"81981 : devolut scotland govern power independ\"\n",
       "[18] \"81388 : good god day love morn\"                \n",
       "[19] \"73067 : polic offic arrest updf secur\"         \n",
       "[20] \"69487 : call amp today app game\"               "
      ]
     },
     "metadata": {},
     "output_type": "display_data"
    }
   ],
   "source": [
    "so <- sort(countsOfPrimaryTopics, decreasing = TRUE)\n",
    "paste(so, \":\", names(so))"
   ]
  },
  {
   "cell_type": "code",
   "execution_count": null,
   "metadata": {},
   "outputs": [],
   "source": []
  }
 ],
 "metadata": {
  "kernelspec": {
   "display_name": "R",
   "language": "R",
   "name": "ir"
  },
  "language_info": {
   "codemirror_mode": "r",
   "file_extension": ".r",
   "mimetype": "text/x-r-source",
   "name": "R",
   "pygments_lexer": "r",
   "version": "4.0.3"
  }
 },
 "nbformat": 4,
 "nbformat_minor": 4
}
